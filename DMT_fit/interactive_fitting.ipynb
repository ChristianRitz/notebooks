{
 "cells": [
  {
   "cell_type": "code",
   "execution_count": null,
   "metadata": {},
   "outputs": [],
   "source": [
    "import numpy as np\n",
    "import matplotlib.pyplot as plt\n",
    "from ipywidgets import interactive\n",
    "import json\n",
    "%matplotlib notebook"
   ]
  },
  {
   "cell_type": "code",
   "execution_count": null,
   "metadata": {},
   "outputs": [],
   "source": [
    "#load experimental data\n",
    "with open('data/experimental_data.json', 'r') as fp:\n",
    "    data = json.load(fp)\n",
    "tips = list(data.keys())\n",
    "tips = [tips[i] for i in np.argsort([np.min(data[tip]['gamma']) for tip in tips])]"
   ]
  },
  {
   "cell_type": "code",
   "execution_count": null,
   "metadata": {},
   "outputs": [],
   "source": [
    "#define analytical gamma formulas\n",
    "gamma_nc = lambda H,R,c,d : -H*R/(12*np.sqrt(2)) * 1/(c-d)**(3/2)\n",
    "gamma_tap = lambda H,R,E,c,d : -H*R/(6*np.sqrt(2)*np.pi)*(\n",
    "    np.sqrt(d)/(c*(d-c)) - np.arctanh(np.sqrt((d-c)/d))/(d-c)**(3/2) + 2*np.sqrt(d)/c**2\n",
    "    )+ E*np.sqrt(2*R)/4*d**2\n",
    "\n",
    "gamma = lambda H,R,E,c,d : np.real(np.heaviside(-d,1)*gamma_nc(H,R,c,d.astype('complex')) + \n",
    "                                   np.heaviside(d,0)*gamma_tap(H,R,E,c,d.astype('complex')))"
   ]
  },
  {
   "cell_type": "code",
   "execution_count": null,
   "metadata": {},
   "outputs": [],
   "source": [
    "fig, ax = plt.subplots(1,1, figsize=(8,8))\n",
    "N=8 #how many lines are remembered\n",
    "d_list,y_list = [],[]\n",
    "\n",
    "def update(H=60,R=10,E=1,c=0.17,dlim=4,ylim=4,tip=tips[1]):\n",
    "    ax.cla()\n",
    "    \n",
    "    H *= 1e-21\n",
    "    R *= 1e-9\n",
    "    E *= 1e9\n",
    "    c *= 1e-9\n",
    "    \n",
    "    d_list.insert(0,np.linspace(-dlim*1e-9,dlim*1e-9,200))\n",
    "    y_list.insert(0,gamma(H,R,E,c,d_list[0]))\n",
    "    \n",
    "    if len(y_list)>N: \n",
    "        del y_list[-1]\n",
    "        del d_list[-1]\n",
    "    \n",
    "    for i in range(len(y_list)):\n",
    "        ax.plot(d_list[i]*1e9, y_list[i]*1e9**(3/2), color='forestgreen', linewidth=1, alpha=1-(i+1)/N)\n",
    "    \n",
    "    #plot experimental data\n",
    "    label = 'Optimal values:\\n'\n",
    "    label += 'R = ' + str(np.round(data[tip]['R_SEM']/1e-9,2)) + ' nm (SEM)\\n'\n",
    "    label += 'H = ' + str(np.round(data[tip]['H_opt']/1e-21,2)) + ' zJ\\n'\n",
    "    label += 'c = ' + str(np.round(data[tip]['c_opt']/1e-9,2)) + ' nm\\n'\n",
    "    label += 'E = ' + str(np.round(data[tip]['E_opt']/1e9,2)) + ' GPa\\n'\n",
    "    ax.plot(data[tip]['d_max'], data[tip]['gamma'], color='k', linewidth=1, label=label)\n",
    "    ax.fill_between(data[tip]['d_max'], \n",
    "                    np.array(data[tip]['gamma'])-np.array(data[tip]['gamma_std']), \n",
    "                    np.array(data[tip]['gamma'])+np.array(data[tip]['gamma_std']), \n",
    "                    color='k', linewidth=0, alpha=0.2)\n",
    "    \n",
    "    #plot styling\n",
    "    ax.axhline(0,linewidth=1,color='k',linestyle=':')\n",
    "    ax.axvline(0,linewidth=1,color='k',linestyle=':')\n",
    "    ax.set_xlabel('$\\delta$ [nm]')\n",
    "    ax.set_ylabel('$\\Gamma$ [N/m nm$^{3/2}$]')\n",
    "    ax.legend(loc=2)\n",
    "    ax.set_xlim(-dlim,dlim)\n",
    "    ax.set_ylim(-ylim,ylim)\n",
    "    fig.canvas.draw()\n",
    "    \n",
    "#run ipython interactive\n",
    "interactive(update, H=(10,1000,3),R=(2,50,0.5),E=(0.4,40,0.1),c=(0.05,1,0.003), dlim=(1,10,1), tip=tips)"
   ]
  }
 ],
 "metadata": {
  "kernelspec": {
   "display_name": "Python 3.8.5 64-bit",
   "language": "python",
   "name": "python38564bit4cf78f9998bf4284b0b4e3c56ab30bc5"
  },
  "language_info": {
   "codemirror_mode": {
    "name": "ipython",
    "version": 3
   },
   "file_extension": ".py",
   "mimetype": "text/x-python",
   "name": "python",
   "nbconvert_exporter": "python",
   "pygments_lexer": "ipython3",
   "version": "3.8.10"
  }
 },
 "nbformat": 4,
 "nbformat_minor": 4
}
